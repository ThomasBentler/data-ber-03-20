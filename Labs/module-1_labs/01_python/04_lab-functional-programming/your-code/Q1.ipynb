{
 "cells": [
  {
   "cell_type": "markdown",
   "metadata": {},
   "source": [
    "In the cell below, create a Python function that wraps your previous solution for the Bag of Words lab.\n",
    "\n",
    "Requirements:\n",
    "\n",
    "1. Your function should accept the following parameters:\n",
    "    * `docs` [REQUIRED] - array of document paths.\n",
    "    * `stop_words` [OPTIONAL] - array of stop words. The default value is an empty array.\n",
    "\n",
    "1. Your function should return a Python object that contains the following:\n",
    "    * `bag_of_words` - array of strings of normalized unique words in the corpus.\n",
    "    * `term_freq` - array of the term-frequency vectors."
   ]
  },
  {
   "cell_type": "code",
   "execution_count": 1,
   "metadata": {},
   "outputs": [],
   "source": [
    "# Import required libraries\n",
    "import pandas as pd\n",
    "import numpy as np\n",
    "\n",
    "\n",
    "# Define function\n",
    "# In the function, first define the variables you will use such as `corpus`, `bag_of_words`, and `term_freq`.\n",
    "# Loop `docs` and read the content of each doc into a string in `corpus`.\n",
    "# Remember to convert the doc content to lowercases and remove punctuation.\n",
    "# Loop `corpus`. Append the terms in each doc into the `bag_of_words` array. \n",
    "# The terms in `bag_of_words` should be unique which means before adding each term you need to check \n",
    "# if it's already added to the array.In addition, check if each term is in the `stop_words` array. \n",
    "# Only append the term to `bag_of_words` if it is not a stop word.\n",
    "\n",
    "\n",
    "def get_bow_from_docs(docs, stop_words=[]):\n",
    "    corpus=[]\n",
    "    bag_of_words=[]\n",
    "    term_freq=[]\n",
    "    corpus_clean = []\n",
    "    \n",
    "    for document in docs:\n",
    "        with open(document, \"r\") as f:\n",
    "            lines = f.readlines()[0]\n",
    "        corpus.append(lines)\n",
    "    \n",
    "    for doc in corpus:\n",
    "        corpus_clean.append(doc.lower().replace(\".\", \"\"))\n",
    "    # print(corpus_clean)\n",
    "        \n",
    "    \n",
    "    for sentence in corpus_clean:\n",
    "        words = sentence.split(\" \")\n",
    "    #     print(words)\n",
    "        for w in words:\n",
    "            if w in stop_words:\n",
    "                continue\n",
    "            if w not in bag_of_words:\n",
    "                bag_of_words.append(w)\n",
    "\n",
    "   # print(bag_of_words)     \n",
    "  \n",
    "    for sentence in corpus_clean:\n",
    "    #     print(sentence)\n",
    "        storing_list = []\n",
    "        terms = sentence.split()\n",
    "    #     print(terms)\n",
    "        for word in bag_of_words:\n",
    "    #         print(word)\n",
    "            if word in terms:\n",
    "                storing_list.append(1)\n",
    "            else:\n",
    "                storing_list.append(0)\n",
    "        term_freq.append(storing_list)\n",
    "    \n",
    "    return {\n",
    "        \"bag_of_words\": bag_of_words,\n",
    "        \"term_freq\": term_freq\n",
    "    }\n",
    "    \n",
    "    get_bow_from_docs([doc1.txt, doc2.txt, doc3.txt])\n",
    "    \n",
    "    \"\"\"\n",
    "    Loop `corpus` again. For each doc string, count the number of occurrences of each term in `bag_of_words`. \n",
    "    Create an array for each doc's term frequency and append it to `term_freq`.\n",
    "    \"\"\"\n",
    "\n",
    "    \n",
    "    \n",
    "    # Now return your output as an object\n",
    "    return {\n",
    "        \"bag_of_words\": bag_of_words,\n",
    "        \"term_freq\": term_freq\n",
    "    }\n",
    "    "
   ]
  },
  {
   "cell_type": "markdown",
   "metadata": {},
   "source": [
    "Test your function without stop words. You should see the output like below:\n",
    "\n",
    "```{'bag_of_words': ['ironhack', 'is', 'cool', 'i', 'love', 'am', 'a', 'student', 'at'], 'term_freq': [[1, 1, 1, 0, 0, 0, 0, 0, 0], [1, 0, 0, 1, 1, 0, 0, 0, 0], [1, 0, 0, 1, 0, 1, 1, 1, 1]]}```"
   ]
  },
  {
   "cell_type": "code",
   "execution_count": 4,
   "metadata": {},
   "outputs": [
    {
     "name": "stdout",
     "output_type": "stream",
     "text": [
      "{'bag_of_words': ['ironhack', 'is', 'cool', 'i', 'love', 'am', 'a', 'student', 'at'], 'term_freq': [[1, 1, 1, 0, 0, 0, 0, 0, 0], [1, 0, 0, 1, 1, 0, 0, 0, 0], [1, 0, 0, 1, 0, 1, 1, 1, 1]]}\n"
     ]
    }
   ],
   "source": [
    "# Define doc paths array\n",
    "docs = ['doc1.txt', 'doc2.txt','doc3.txt']\n",
    "\n",
    "# Obtain BoW from your function\n",
    "bow = get_bow_from_docs(docs)\n",
    "\n",
    "# Print BoW\n",
    "print(bow)"
   ]
  },
  {
   "cell_type": "markdown",
   "metadata": {},
   "source": [
    "If your attempt above is successful, nice work done!\n",
    "\n",
    "Now test your function again with the stop words. In the previous lab we defined the stop words in a large array. In this lab, we'll import the stop words from Scikit-Learn."
   ]
  },
  {
   "cell_type": "code",
   "execution_count": 5,
   "metadata": {},
   "outputs": [
    {
     "name": "stdout",
     "output_type": "stream",
     "text": [
      "frozenset({'amoungst', 'perhaps', 'us', 'about', 'nine', 'side', 'mill', 'sixty', 'top', 'on', 'was', 'first', 'nobody', 'whence', 'during', 'yourselves', 'due', 'one', 'itself', 'from', 're', 'whole', 'among', 'un', 'anywhere', 'or', 'another', 'also', 'thru', 'every', 'ten', 'neither', 'everywhere', 'whereafter', 'move', 'formerly', 'within', 'she', 'else', 'elsewhere', 'etc', 'his', 'how', 'towards', 'might', 'call', 'almost', 'when', 'against', 'whether', 'seemed', 'anyway', 'to', 'became', 'as', 'everything', 'rather', 'fifteen', 'well', 'be', 'please', 'get', 'empty', 'have', 'done', 'myself', 'whither', 'yourself', 'this', 'has', 'found', 'same', 'must', 'any', 'wherever', 'is', 'fifty', 'two', 'they', 'afterwards', 'anyone', 'bottom', 'somewhere', 'we', 'eg', 'will', 'some', 'were', 'enough', 'latterly', 'part', 'if', 'onto', 'co', 'there', 'others', 'thence', 'name', 'much', 'front', 'been', 'meanwhile', 'never', 'already', 'because', 'back', 'twenty', 'of', 'herself', 'too', 'cant', 'her', 'whereby', 'its', 'next', 'fill', 'thick', 'either', 'detail', 'least', 'an', 'eight', 'at', 'former', 'together', 'over', 'take', 'him', 'even', 'so', 'only', 'however', 'via', 'seeming', 'couldnt', 'amount', 'what', 'the', 'through', 'down', 'by', 'for', 'bill', 'describe', 'toward', 'fire', 'see', 'your', 'hundred', 'mostly', 'becoming', 'whenever', 'hers', 'therefore', 'not', 'anything', 'upon', 'nowhere', 'still', 'each', 'last', 'very', 'all', 'cannot', 'more', 'himself', 'and', 'can', 'own', 'why', 'ltd', 'nevertheless', 'herein', 'become', 'could', 'often', 'inc', 'further', 'beside', 'forty', 'should', 'four', 'above', 'hasnt', 'cry', 'find', 'serious', 'though', 'nor', 'along', 'am', 'ourselves', 'hence', 'whatever', 'between', 'than', 'which', 'becomes', 'me', 'beyond', 'being', 'twelve', 'whereas', 'many', 'sometimes', 'noone', 'seem', 'otherwise', 'third', 'three', 'ie', 'behind', 'most', 'hereby', 'it', 'into', 'throughout', 'with', 'hereupon', 'whom', 'until', 'latter', 'yet', 'below', 'before', 'whose', 'ours', 'both', 'here', 'where', 'across', 'amongst', 'my', 'moreover', 'in', 'except', 'hereafter', 'ever', 'while', 'five', 'had', 'con', 'de', 'eleven', 'sincere', 'something', 'once', 'thereupon', 'you', 'would', 'up', 'namely', 'again', 'everyone', 'several', 'themselves', 'always', 'go', 'i', 'those', 'them', 'mine', 'somehow', 'whereupon', 'now', 'that', 'around', 'none', 'no', 'may', 'system', 'someone', 'give', 'therein', 'such', 'thin', 'without', 'thus', 'wherein', 'who', 'thereby', 'are', 'he', 'their', 'our', 'since', 'under', 'made', 'nothing', 'out', 'keep', 'put', 'off', 'indeed', 'whoever', 'beforehand', 'interest', 'few', 'anyhow', 'then', 'yours', 'six', 'alone', 'these', 'other', 'but', 'although', 'per', 'do', 'full', 'seems', 'less', 'show', 'a', 'sometime', 'besides', 'after', 'thereafter'})\n"
     ]
    }
   ],
   "source": [
    "from sklearn.feature_extraction import stop_words\n",
    "print(stop_words.ENGLISH_STOP_WORDS)"
   ]
  },
  {
   "cell_type": "markdown",
   "metadata": {},
   "source": [
    "You should have seen a large list of words that looks like:\n",
    "\n",
    "```frozenset({'across', 'mine', 'cannot', ...})```\n",
    "\n",
    "`frozenset` is a type of Python object that is immutable. In this lab you can use it just like an array without conversion."
   ]
  },
  {
   "cell_type": "markdown",
   "metadata": {},
   "source": [
    "Next, test your function with supplying `stop_words.ENGLISH_STOP_WORDS` as the second parameter."
   ]
  },
  {
   "cell_type": "code",
   "execution_count": 6,
   "metadata": {},
   "outputs": [
    {
     "name": "stdout",
     "output_type": "stream",
     "text": [
      "{'bag_of_words': ['ironhack', 'cool', 'love', 'student'], 'term_freq': [[1, 1, 0, 0], [1, 0, 1, 0], [1, 0, 0, 1]]}\n"
     ]
    }
   ],
   "source": [
    "bow = get_bow_from_docs(docs, stop_words.ENGLISH_STOP_WORDS)\n",
    "\n",
    "print(bow)"
   ]
  },
  {
   "cell_type": "markdown",
   "metadata": {},
   "source": [
    "You should have seen:\n",
    "\n",
    "```{'bag_of_words': ['ironhack', 'cool', 'love', 'student'], 'term_freq': [[1, 1, 0, 0], [1, 0, 1, 0], [1, 0, 0, 1]]}```"
   ]
  },
  {
   "cell_type": "code",
   "execution_count": null,
   "metadata": {},
   "outputs": [],
   "source": []
  }
 ],
 "metadata": {
  "kernelspec": {
   "display_name": "Python 3",
   "language": "python",
   "name": "python3"
  },
  "language_info": {
   "codemirror_mode": {
    "name": "ipython",
    "version": 3
   },
   "file_extension": ".py",
   "mimetype": "text/x-python",
   "name": "python",
   "nbconvert_exporter": "python",
   "pygments_lexer": "ipython3",
   "version": "3.7.4"
  }
 },
 "nbformat": 4,
 "nbformat_minor": 4
}
