{
 "cells": [
  {
   "cell_type": "markdown",
   "metadata": {},
   "source": [
    "# Before your start:\n",
    "\n",
    "    Read the README.md file\n",
    "    Comment as much as you can and use the resources (README.md file)\n",
    "    Happy learning!\n",
    "\n",
    "*Notes:* \n",
    "\n",
    "- Solve the questions with python.\n",
    "\n",
    "- Round the final answer to three decimal places."
   ]
  },
  {
   "cell_type": "markdown",
   "metadata": {},
   "source": [
    "## Bernoulli's Distribution\n",
    "\n",
    "In a basket containing 100 fruits, there are 60 apples and 40 oranges. \n",
    "\n",
    "A fruit is picked randomly from the basket. \n",
    "\n",
    "1. **What is the probability that the fruit is apple?**\n",
    "1. **What is the probability that it is an orange?**"
   ]
  },
  {
   "cell_type": "code",
   "execution_count": 4,
   "metadata": {},
   "outputs": [
    {
     "name": "stdout",
     "output_type": "stream",
     "text": [
      "0.6 0.4\n"
     ]
    }
   ],
   "source": [
    "\"\"\"\n",
    "Calculate:\n",
    "p = probability that the fruit is an apple \n",
    "q = probability that the fruit is an orange\n",
    "\"\"\"\n",
    "\n",
    "# your code here\n",
    "# the probability according to Laplace ius calculated as below\n",
    "p = 60/100\n",
    "q = 1-p # alternatively q=40/100\n",
    "print(p,q)"
   ]
  },
  {
   "cell_type": "markdown",
   "metadata": {},
   "source": [
    "Now we take a random sample of 20 fruits from the basket. After each fruit is taken, a new fruit of the same type is placed in the basket. Therefore, every time we are taking 1 fruit from 100 fruits. \n",
    "\n",
    "1. **What is the probability that the first 5 fruits are all apples?**\n",
    "\n",
    "1. **What is the probability that the first 5 fruits are all apples and the next 15 fruits are all oranges?**\n",
    "\n",
    "You can include the `p` and `q` probabilities you previous calculated in your solution."
   ]
  },
  {
   "cell_type": "code",
   "execution_count": 25,
   "metadata": {},
   "outputs": [
    {
     "name": "stdout",
     "output_type": "stream",
     "text": [
      "The probability of 5 apples in a row is 7.78 percent.\n",
      "The probability of 5 apples and followed by 15 consequtive oranges in a row is 8.34941642342401e-06 percent.\n"
     ]
    }
   ],
   "source": [
    "# your code here\n",
    "p = 0.6 # the probability for apple\n",
    "q = 0.4 # the probability for oranges\n",
    "n = 20, # the number of draws, the size of the sample - the draws are taking place with replacement\n",
    "\n",
    "# probability of 5 apples in a row\n",
    "pA5 = p**5\n",
    "print(\"The probability of 5 apples in a row is\", round((pA5*100),2),\"percent.\")\n",
    "\n",
    "# probability of 15 oranges in a row\n",
    "pO15 = q**15\n",
    "# probability  of 15 oranges in a row und the condition of a preceding draw of 5 apples in a row\n",
    "pA5pO15 = pA5 * pO15\n",
    "\n",
    "print(\"The probability of 5 apples followed by 15 consecutive oranges in a row is\",(round((pA5pO15*100),20)),\"percent.\")"
   ]
  },
  {
   "cell_type": "markdown",
   "metadata": {},
   "source": [
    "## Binomial Distribution\n",
    "\n",
    "Similar to the above problem, this time again we randomly sample 20 fruits.\n",
    "\n",
    "**What is the probability that this time the sample contains 5 apples and 15 oranges?**\n",
    "\n",
    "Please note that this time the order of the fruits being picked does not matter."
   ]
  },
  {
   "cell_type": "code",
   "execution_count": 33,
   "metadata": {},
   "outputs": [
    {
     "name": "stdout",
     "output_type": "stream",
     "text": [
      "The probability of 5 apples and 15 oranges in no particular order is 0.13 percent.\n"
     ]
    }
   ],
   "source": [
    "# your code here\n",
    "import scipy.special\n",
    "n = 20 # number of draws\n",
    "p = 0.6 # probability for apple\n",
    "q = 0.4 # probability for oranges\n",
    "a = 5 # exact number of apples (positive results) expected\n",
    "\n",
    "bin0 = scipy.special.binom(20, 5)\n",
    "bin1= pow(p,a)\n",
    "bin2= pow(q,n-a)\n",
    "P5a15o = bin0 * bin1 * bin2\n",
    "print(\"The probability of 5 apples and 15 oranges in no particular order is\",(round((P5a15o*100),2)),\"percent.\")"
   ]
  },
  {
   "cell_type": "markdown",
   "metadata": {},
   "source": [
    "In the lesson we also discussed CDF (cumulative distribution function). In the context of the above problem, **what is the probability that less than 5 fruits picked are apples?**\n",
    "\n",
    "Write the formula and calculate the probability below."
   ]
  },
  {
   "cell_type": "code",
   "execution_count": 58,
   "metadata": {},
   "outputs": [
    {
     "name": "stdout",
     "output_type": "stream",
     "text": [
      "0 1.0 1.0 1.0995116277760013e-08 1.0995116277760013e-08\n",
      "1 20.0 0.6 2.748779069440003e-08 3.2985348833280036e-07\n",
      "2 190.0 0.36 6.871947673600007e-08 4.700412208742404e-06\n",
      "3 1140.0 0.21599999999999997 1.7179869184000017e-07 4.230370987868163e-05\n",
      "4 4845.0 0.1296 4.2949672960000036e-07 0.00026968615047659537\n",
      "The probability of leass than 5 apples are drawn out of 20 draws with replacement is 0.0317 percent.\n"
     ]
    }
   ],
   "source": [
    "# your code here\n",
    "n = 20 # number of draws\n",
    "p = 0.6 # probability for apple\n",
    "q = 0.4 # probability for oranges\n",
    "a = 5 # maximum number of apples (positive results) expected\n",
    "\n",
    "pless5a=0\n",
    "for j in range(a):\n",
    "    bin0 = scipy.special.binom(n,j)\n",
    "    bin1= pow(p,j)\n",
    "    bin2= pow(q,n-j)\n",
    "    pp = bin0 * bin1 * bin2\n",
    "    #print(j, bin0, bin1, bin2, pp)\n",
    "    pless5a += pp\n",
    "\n",
    "print(\"The probability of leass than 5 apples are drawn out of 20 draws with replacement is\",(round((pless5a*100),5)),\"percent.\")"
   ]
  },
  {
   "cell_type": "code",
   "execution_count": 48,
   "metadata": {},
   "outputs": [
    {
     "name": "stdout",
     "output_type": "stream",
     "text": [
      "1.0\n",
      "20.0\n",
      "190.0\n",
      "1140.0\n",
      "4845.0\n"
     ]
    }
   ],
   "source": [
    "#print(scipy.special.binom(20,0))\n",
    "#print(scipy.special.binom(20,1))\n",
    "#print(scipy.special.binom(20,2))\n",
    "#print(scipy.special.binom(20,3))\n",
    "#print(scipy.special.binom(20,4))"
   ]
  },
  {
   "cell_type": "markdown",
   "metadata": {},
   "source": [
    "**Plot the PDF (probability distributiom function) for the above binomial distribution.**\n",
    "\n",
    "*Hint: The range of x in a binomial distribution is from `0` to `n`.*"
   ]
  },
  {
   "cell_type": "code",
   "execution_count": 74,
   "metadata": {},
   "outputs": [
    {
     "data": {
      "text/plain": [
       "[Text(0, 0.5, 'Frequency'), Text(0.5, 0, 'Binomial')]"
      ]
     },
     "execution_count": 74,
     "metadata": {},
     "output_type": "execute_result"
    },
    {
     "data": {
      "image/png": "[encoded data removed]",
      "text/plain": [
       "<Figure size 432x288 with 1 Axes>"
      ]
     },
     "metadata": {
      "needs_background": "light"
     },
     "output_type": "display_data"
    }
   ],
   "source": [
    "# your code here\n",
    "# Please label the axes and give a title to the plot \n",
    "import pylab\n",
    "from scipy.stats import binom\n",
    "import seaborn as sns\n",
    "import matplotlib.pyplot as plt\n",
    "x = [0,0,1,2,4,6,8,10,12,14,16,18,20]\n",
    "binom.rvs(n=20,p=0.6)\n",
    "data_binom = binom.rvs(n=20,p=0.6,size=10000)\n",
    "ax = sns.distplot(data_binom,\n",
    "                  kde=False,\n",
    "                  color='skyblue',\n",
    "                  hist_kws={\"linewidth\": 15,'alpha':1})\n",
    "ax.set(xlabel='Binomial', ylabel='Frequency')"
   ]
  },
  {
   "cell_type": "markdown",
   "metadata": {},
   "source": [
    "## Poisson Distribution\n",
    "\n",
    "In this challenge you are required to use the Math library in python to solve the problems.\n",
    "\n",
    "In the UEFA champions league tournament, the average number of goals scored in a match is 2.3. \n",
    "\n",
    "**What is the probability that the number of goals scored in a match is 5?**\n",
    "\n",
    "*Hint: Use the exp() in the math library*\n",
    "\n",
    "And to calculate the factorial, you can use the following code:\n",
    "\n",
    "```python\n",
    "import math\n",
    "math.factorial(n) # n is the number you want to find the factorial of\n",
    "```"
   ]
  },
  {
   "cell_type": "code",
   "execution_count": null,
   "metadata": {},
   "outputs": [],
   "source": [
    "# your code here "
   ]
  },
  {
   "cell_type": "markdown",
   "metadata": {},
   "source": [
    "**Draw a poisson probability distribution plot for the number of goals to be between 0 to 10.**"
   ]
  },
  {
   "cell_type": "code",
   "execution_count": null,
   "metadata": {},
   "outputs": [],
   "source": [
    "# your code here\n",
    "# Please label the axes and give a title to the plot "
   ]
  }
 ],
 "metadata": {
  "kernelspec": {
   "display_name": "Python 3",
   "language": "python",
   "name": "python3"
  },
  "language_info": {
   "codemirror_mode": {
    "name": "ipython",
    "version": 3
   },
   "file_extension": ".py",
   "mimetype": "text/x-python",
   "name": "python",
   "nbconvert_exporter": "python",
   "pygments_lexer": "ipython3",
   "version": "3.7.4"
  }
 },
 "nbformat": 4,
 "nbformat_minor": 4
}
